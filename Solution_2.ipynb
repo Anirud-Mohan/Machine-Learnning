{
  "nbformat": 4,
  "nbformat_minor": 0,
  "metadata": {
    "colab": {
      "name": "Solution_2.ipynb",
      "provenance": [],
      "collapsed_sections": [],
      "authorship_tag": "ABX9TyMe6EaTTueTNewCaUacxPTE",
      "include_colab_link": true
    },
    "kernelspec": {
      "name": "python3",
      "display_name": "Python 3"
    },
    "language_info": {
      "name": "python"
    }
  },
  "cells": [
    {
      "cell_type": "markdown",
      "metadata": {
        "id": "view-in-github",
        "colab_type": "text"
      },
      "source": [
        "<a href=\"https://colab.research.google.com/github/Anirud-Mohan/Machine-Learnning/blob/main/Solution_2.ipynb\" target=\"_parent\"><img src=\"https://colab.research.google.com/assets/colab-badge.svg\" alt=\"Open In Colab\"/></a>"
      ]
    },
    {
      "cell_type": "markdown",
      "source": [
        "***Sampling Method To Draw Samples From a Multivariate Normal Distribution(MVN) In JAX***"
      ],
      "metadata": {
        "id": "0K0-vzcAINfO"
      }
    },
    {
      "cell_type": "markdown",
      "source": [
        "***MULTIVARIATE NORMAL DISTRIBUTION***\n",
        "\n",
        "In probability theory and statistics, the multivariate normal distribution, multivariate Gaussian distribution, or joint normal distribution is a generalization of the one-dimensional (univariate) normal distribution to higher dimensions. One definition is that a random vector is said to be k-variate normally distributed if every linear combination of its k components has a univariate normal distribution. Its importance derives mainly from the multivariate central limit theorem. The multivariate normal distribution is often used to describe, at least approximately, any set of (possibly) correlated real-valued random variables each of which clusters around a mean value.\n",
        "\n",
        "\n"
      ],
      "metadata": {
        "id": "f2EZso0CMsKT"
      }
    },
    {
      "cell_type": "code",
      "source": [
        "import jax.numpy as jnp\n",
        "import jax.random as random\n",
        "key = random.PRNGKey(23)"
      ],
      "metadata": {
        "id": "XHN4TfqQO8fh"
      },
      "execution_count": null,
      "outputs": []
    },
    {
      "cell_type": "code",
      "source": [
        "#Setting Parameters\n",
        "# Define dimension. \n",
        "d = 10\n",
        "# Set mean vector. \n",
        "m = jnp.array([1,2,3,4,5,6,7,8,9,10])\n",
        "# Set covariance function.\n",
        "K_0 = jnp.array([[1,0,0,0,0,0,0,0,0,0],\n",
        "       [0,1,0,0,0,0,0,0,0,0],\n",
        "       [0,0,1,0,0,0,0,0,0,0],\n",
        "       [0,0,0,1,0,0,0,0,0,0],\n",
        "       [0,0,0,0,1,0,0,0,0,0],\n",
        "       [0,0,0,0,0,1,0,0,0,0],\n",
        "       [0,0,0,0,0,0,1,0,0,0],\n",
        "       [0,0,0,0,0,0,0,1,0,0],\n",
        "       [0,0,0,0,0,0,0,0,1,0],\n",
        "       [0,0,0,0,0,0,0,0,0,1]])\n",
        "\n",
        "K_0 , m.reshape(10,1)"
      ],
      "metadata": {
        "id": "PyLgRsF3PBBu"
      },
      "execution_count": null,
      "outputs": []
    },
    {
      "cell_type": "markdown",
      "source": [
        " **Sampling Process\n",
        "Step 1: Compute the Cholesky Decomposition**"
      ],
      "metadata": {
        "id": "y-0gf1OaPNzr"
      }
    },
    {
      "cell_type": "code",
      "source": [
        "# Define epsilon.\n",
        "epsilon = 0.0001\n",
        "\n",
        "# Add small pertturbation. \n",
        "K = K_0 + epsilon*jnp.identity(d)\n",
        "\n",
        "#  Cholesky decomposition.\n",
        "L = jnp.linalg.cholesky(K)\n",
        "L"
      ],
      "metadata": {
        "id": "xs_6JeX1Pgdn"
      },
      "execution_count": null,
      "outputs": []
    },
    {
      "cell_type": "code",
      "source": [
        "#Verifying Desired Properties\n",
        "jnp.dot(L, jnp.transpose(L))"
      ],
      "metadata": {
        "id": "c7YFmdWSPn10"
      },
      "execution_count": null,
      "outputs": []
    },
    {
      "cell_type": "markdown",
      "source": [
        "**Step 2: Generate Independent Samples u ∼ N( 0, I )** "
      ],
      "metadata": {
        "id": "qQxSr2FZPvyT"
      }
    },
    {
      "cell_type": "code",
      "source": [
        "n = 10000\n",
        "u = random.uniform(key,shape=(d, n),minval=-3 , maxval=3)\n",
        "u"
      ],
      "metadata": {
        "id": "nXeozP66P1WX"
      },
      "execution_count": null,
      "outputs": []
    },
    {
      "cell_type": "markdown",
      "source": [
        "**Step 3: Compute x = m + Lu**"
      ],
      "metadata": {
        "id": "x1hv0ZdeP5iA"
      }
    },
    {
      "cell_type": "code",
      "source": [
        "x = m + jnp.dot(L, u).T\n",
        "x"
      ],
      "metadata": {
        "id": "tyK2I-zMQAo2"
      },
      "execution_count": null,
      "outputs": []
    },
    {
      "cell_type": "code",
      "source": [
        "#Using JAX Sampler\n",
        "key = random.PRNGKey(67)\n",
        "cov = jnp.array([[1.2, 0.4], [0.4, 1.0]])\n",
        "mean = jnp.array([3,-1])\n",
        "x1 = random.multivariate_normal(key, mean, cov, (10000,)).T\n",
        "x1"
      ],
      "metadata": {
        "id": "QX4dqmvcQGRO"
      },
      "execution_count": null,
      "outputs": []
    }
  ]
}